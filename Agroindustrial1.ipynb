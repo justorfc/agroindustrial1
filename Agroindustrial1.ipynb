{
  "nbformat": 4,
  "nbformat_minor": 0,
  "metadata": {
    "colab": {
      "provenance": [],
      "authorship_tag": "ABX9TyMAUFqh+q9kztDnivJsn9nT",
      "include_colab_link": true
    },
    "kernelspec": {
      "name": "python3",
      "display_name": "Python 3"
    },
    "language_info": {
      "name": "python"
    }
  },
  "cells": [
    {
      "cell_type": "markdown",
      "metadata": {
        "id": "view-in-github",
        "colab_type": "text"
      },
      "source": [
        "<a href=\"https://colab.research.google.com/github/justorfc/agroindustrial1/blob/main/Agroindustrial1.ipynb\" target=\"_parent\"><img src=\"https://colab.research.google.com/assets/colab-badge.svg\" alt=\"Open In Colab\"/></a>"
      ]
    },
    {
      "cell_type": "code",
      "execution_count": null,
      "metadata": {
        "id": "Q_Jvr6RMzn3z"
      },
      "outputs": [],
      "source": []
    },
    {
      "cell_type": "code",
      "metadata": {
        "colab": {
          "base_uri": "https://localhost:8080/"
        },
        "id": "2cb6cba2",
        "outputId": "2ef2edc8-20fd-44c8-bd87-61c5bb436ba6"
      },
      "source": [
        "# Define two numbers\n",
        "num1 = 10\n",
        "num2 = 5\n",
        "\n",
        "# Sum the numbers\n",
        "sum_result = num1 + num2\n",
        "\n",
        "# Print the result\n",
        "print(f\"La suma de {num1} y {num2} es: {sum_result}\")"
      ],
      "execution_count": 1,
      "outputs": [
        {
          "output_type": "stream",
          "name": "stdout",
          "text": [
            "La suma de 10 y 5 es: 15\n"
          ]
        }
      ]
    },
    {
      "cell_type": "markdown",
      "metadata": {
        "id": "089d168f"
      },
      "source": [
        "Este código Python realiza una simple suma de dos números:\n",
        "\n",
        "1.  `# Define two numbers`: Este comentario indica que se van a definir dos variables para los números.\n",
        "2.  `num1 = 10`: Se crea una variable llamada `num1` y se le asigna el valor 10.\n",
        "3.  `num2 = 5`: Se crea otra variable llamada `num2` y se le asigna el valor 5.\n",
        "4.  `# Sum the numbers`: Este comentario indica que se realizará la suma.\n",
        "5.  `sum_result = num1 + num2`: Se suman los valores de `num1` y `num2`, y el resultado se guarda en la variable `sum_result`.\n",
        "6.  `# Print the result`: Este comentario indica que se imprimirá el resultado.\n",
        "7.  `print(f\"La suma de {num1} y {num2} es: {sum_result}\")`: Se imprime un mensaje formateado que muestra la operación realizada y el resultado (`15`)."
      ]
    }
  ]
}