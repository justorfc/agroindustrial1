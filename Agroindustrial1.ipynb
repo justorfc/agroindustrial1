{
  "nbformat": 4,
  "nbformat_minor": 0,
  "metadata": {
    "colab": {
      "provenance": [],
      "authorship_tag": "ABX9TyNWPQuJqMtcnmohwV2rE3lD",
      "include_colab_link": true
    },
    "kernelspec": {
      "name": "python3",
      "display_name": "Python 3"
    },
    "language_info": {
      "name": "python"
    }
  },
  "cells": [
    {
      "cell_type": "markdown",
      "metadata": {
        "id": "view-in-github",
        "colab_type": "text"
      },
      "source": [
        "<a href=\"https://colab.research.google.com/github/justorfc/agroindustrial1/blob/main/Agroindustrial1.ipynb\" target=\"_parent\"><img src=\"https://colab.research.google.com/assets/colab-badge.svg\" alt=\"Open In Colab\"/></a>"
      ]
    },
    {
      "cell_type": "code",
      "execution_count": null,
      "metadata": {
        "id": "Q_Jvr6RMzn3z"
      },
      "outputs": [],
      "source": []
    },
    {
      "cell_type": "code",
      "metadata": {
        "colab": {
          "base_uri": "https://localhost:8080/"
        },
        "id": "2cb6cba2",
        "outputId": "2ef2edc8-20fd-44c8-bd87-61c5bb436ba6"
      },
      "source": [
        "# Define two numbers\n",
        "num1 = 10\n",
        "num2 = 5\n",
        "\n",
        "# Sum the numbers\n",
        "sum_result = num1 + num2\n",
        "\n",
        "# Print the result\n",
        "print(f\"La suma de {num1} y {num2} es: {sum_result}\")"
      ],
      "execution_count": 1,
      "outputs": [
        {
          "output_type": "stream",
          "name": "stdout",
          "text": [
            "La suma de 10 y 5 es: 15\n"
          ]
        }
      ]
    },
    {
      "cell_type": "markdown",
      "metadata": {
        "id": "089d168f"
      },
      "source": [
        "Este código Python realiza una simple suma de dos números:\n",
        "\n",
        "1.  `# Define two numbers`: Este comentario indica que se van a definir dos variables para los números.\n",
        "2.  `num1 = 10`: Se crea una variable llamada `num1` y se le asigna el valor 10.\n",
        "3.  `num2 = 5`: Se crea otra variable llamada `num2` y se le asigna el valor 5.\n",
        "4.  `# Sum the numbers`: Este comentario indica que se realizará la suma.\n",
        "5.  `sum_result = num1 + num2`: Se suman los valores de `num1` y `num2`, y el resultado se guarda en la variable `sum_result`.\n",
        "6.  `# Print the result`: Este comentario indica que se imprimirá el resultado.\n",
        "7.  `print(f\"La suma de {num1} y {num2} es: {sum_result}\")`: Se imprime un mensaje formateado que muestra la operación realizada y el resultado (`15`)."
      ]
    },
    {
      "cell_type": "code",
      "metadata": {
        "colab": {
          "base_uri": "https://localhost:8080/"
        },
        "id": "98b5ed86",
        "outputId": "23b2fc72-326b-493f-843d-f1448a1ee08e"
      },
      "source": [
        "# Define two numbers\n",
        "num1 = 20\n",
        "num2 = 5\n",
        "\n",
        "# Addition\n",
        "sum_result = num1 + num2\n",
        "print(f\"Suma: {num1} + {num2} = {sum_result}\")\n",
        "\n",
        "# Subtraction\n",
        "difference_result = num1 - num2\n",
        "print(f\"Resta: {num1} - {num2} = {difference_result}\")\n",
        "\n",
        "# Multiplication\n",
        "product_result = num1 * num2\n",
        "print(f\"Multiplicación: {num1} * {num2} = {product_result}\")\n",
        "\n",
        "# Division (float division)\n",
        "division_result = num1 / num2\n",
        "print(f\"División (flotante): {num1} / {num2} = {division_result}\")\n",
        "\n",
        "# Integer division (floor division)\n",
        "floor_division_result = num1 // num2\n",
        "print(f\"División entera: {num1} // {num2} = {floor_division_result}\")\n",
        "\n",
        "# Modulo (remainder)\n",
        "modulo_result = num1 % num2\n",
        "print(f\"Módulo: {num1} % {num2} = {modulo_result}\")\n",
        "\n",
        "# Exponentiation\n",
        "exponentiation_result = num1 ** num2\n",
        "print(f\"Exponenciación: {num1} ** {num2} = {exponentiation_result}\")"
      ],
      "execution_count": 2,
      "outputs": [
        {
          "output_type": "stream",
          "name": "stdout",
          "text": [
            "Suma: 20 + 5 = 25\n",
            "Resta: 20 - 5 = 15\n",
            "Multiplicación: 20 * 5 = 100\n",
            "División (flotante): 20 / 5 = 4.0\n",
            "División entera: 20 // 5 = 4\n",
            "Módulo: 20 % 5 = 0\n",
            "Exponenciación: 20 ** 5 = 3200000\n"
          ]
        }
      ]
    },
    {
      "cell_type": "markdown",
      "metadata": {
        "id": "a809b802"
      },
      "source": [
        "Este código Python realiza varias operaciones aritméticas con dos números definidos:\n",
        "\n",
        "1.  `# Define two numbers`: Comentario que indica la definición de las variables numéricas.\n",
        "2.  `num1 = 20`: Se crea la variable `num1` y se le asigna el valor entero `20`.\n",
        "3.  `num2 = 5`: Se crea la variable `num2` y se le asigna el valor entero `5`.\n",
        "\n",
        "4.  `# Addition`: Comentario que indica la operación de suma.\n",
        "5.  `sum_result = num1 + num2`: Suma `num1` y `num2`, almacenando el resultado (`25`) en `sum_result`.\n",
        "6.  `print(f\"Suma: {num1} + {num2} = {sum_result}\")`: Imprime la operación de suma y su resultado.\n",
        "\n",
        "7.  `# Subtraction`: Comentario que indica la operación de resta.\n",
        "8.  `difference_result = num1 - num2`: Resta `num2` de `num1`, almacenando el resultado (`15`) en `difference_result`.\n",
        "9.  `print(f\"Resta: {num1} - {num2} = {difference_result}\")`: Imprime la operación de resta y su resultado.\n",
        "\n",
        "10. `# Multiplication`: Comentario que indica la operación de multiplicación.\n",
        "11. `product_result = num1 * num2`: Multiplica `num1` por `num2`, almacenando el resultado (`100`) en `product_result`.\n",
        "12. `print(f\"Multiplicación: {num1} * {num2} = {product_result}\")`: Imprime la operación de multiplicación y su resultado.\n",
        "\n",
        "13. `# Division (float division)`: Comentario que indica la división flotante.\n",
        "14. `division_result = num1 / num2`: Divide `num1` por `num2` realizando una división de punto flotante (el resultado puede tener decimales), almacenando el resultado (`4.0`) en `division_result`.\n",
        "15. `print(f\"División (flotante): {num1} / {num2} = {division_result}\")`: Imprime la operación de división flotante y su resultado.\n",
        "\n",
        "16. `# Integer division (floor division)`: Comentario que indica la división entera.\n",
        "17. `floor_division_result = num1 // num2`: Divide `num1` por `num2` realizando una división entera (el resultado se redondea hacia abajo al número entero más cercano), almacenando el resultado (`4`) en `floor_division_result`.\n",
        "18. `print(f\"División entera: {num1} // {num2} = {floor_division_result}\")`: Imprime la operación de división entera y su resultado.\n",
        "\n",
        "19. `# Modulo (remainder)`: Comentario que indica la operación de módulo.\n",
        "20. `modulo_result = num1 % num2`: Calcula el resto de la división de `num1` entre `num2`, almacenando el resultado (`0`) en `modulo_result`.\n",
        "21. `print(f\"Módulo: {num1} % {num2} = {modulo_result}\")`: Imprime la operación de módulo y su resultado.\n",
        "\n",
        "22. `# Exponentiation`: Comentario que indica la operación de exponenciación.\n",
        "23. `exponentiation_result = num1 ** num2`: Eleva `num1` a la potencia de `num2`, almacenando el resultado (`3200000`) en `exponentiation_result`.\n",
        "24. `print(f\"Exponenciación: {num1} ** {num2} = {exponentiation_result}\")`: Imprime la operación de exponenciación y su resultado."
      ]
    }
  ]
}